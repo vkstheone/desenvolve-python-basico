{
 "cells": [
  {
   "cell_type": "markdown",
   "id": "29e89030",
   "metadata": {},
   "source": [
    "# Módulo 4 - Repetições\n",
    "\n",
    "## Aulas 4.2 - Comando ```for``` e 4.3 Break e Continue"
   ]
  },
  {
   "cell_type": "markdown",
   "id": "a45b42df",
   "metadata": {},
   "source": [
    "### Q1.\n",
    "\n",
    "Crie um programa em Python que utilize o comando for para imprimir os números de 10 a 1, em ordem decrescente."
   ]
  },
  {
   "cell_type": "code",
   "execution_count": 1,
   "id": "55a75b3d",
   "metadata": {},
   "outputs": [
    {
     "name": "stdout",
     "output_type": "stream",
     "text": [
      "10\n",
      "9\n",
      "8\n",
      "7\n",
      "6\n",
      "5\n",
      "4\n",
      "3\n",
      "2\n",
      "1\n"
     ]
    }
   ],
   "source": [
    "## Escreva e execute seu código aqui\n",
    "for i in range(10,0,-1):\n",
    "    print(i)"
   ]
  },
  {
   "cell_type": "markdown",
   "id": "94b47c36",
   "metadata": {},
   "source": [
    "### Q2.\n",
    "\n",
    "Dado um número inteiro positivo informado pelo usuário, crie um programa em Python que utilize o comando for para calcular e exibir a soma dos números de 1 até o número informado. Ou seja, $1 + 2 + 3 + ... + n$\n",
    "\n",
    "Exemplo de interação:\n",
    "```\n",
    "Digite um número: 5\n",
    "A soma dos números de 1 a 5 é 15\n",
    "```\n"
   ]
  },
  {
   "cell_type": "code",
   "execution_count": null,
   "id": "45b71596",
   "metadata": {},
   "outputs": [],
   "source": [
    "## Escreva e execute seu código aqui\n",
    "numero= int(input('Digite um número: '))\n",
    "soma=0\n",
    "for i in range(1,numero+1):\n",
    "    soma+=i\n",
    "\n",
    "print(\"A soma dos números de 1 a\", numero, \"é\", soma)"
   ]
  },
  {
   "cell_type": "markdown",
   "id": "0411d170",
   "metadata": {},
   "source": [
    "### Q3.\n",
    "\n",
    "Escreva um programa que lê 10 valores inteiros positivos do usuário e ao final imprime a média dos valores digitados com duas casas decimais.\n",
    "\n",
    "```\n",
    "Digite 10 números positivos:\n",
    "3\n",
    "2\n",
    "12\n",
    "14\n",
    "20\n",
    "42\n",
    "19\n",
    "0\n",
    "8\n",
    "1\n",
    "A média dos valores digitados é 12.10\n",
    "```"
   ]
  },
  {
   "cell_type": "code",
   "execution_count": 2,
   "id": "3f72f358",
   "metadata": {},
   "outputs": [
    {
     "name": "stdout",
     "output_type": "stream",
     "text": [
      "Digite o 1º valor inteiro positivo:  3\n",
      "Digite o 2º valor inteiro positivo:  2\n",
      "Digite o 3º valor inteiro positivo:  12\n",
      "Digite o 4º valor inteiro positivo:  14\n",
      "Digite o 5º valor inteiro positivo:  20\n",
      "Digite o 6º valor inteiro positivo:  42\n",
      "Digite o 7º valor inteiro positivo:  19\n",
      "Digite o 8º valor inteiro positivo:  0\n",
      "Digite o 9º valor inteiro positivo:  8\n",
      "Digite o 10º valor inteiro positivo:  1\n"
     ]
    },
    {
     "name": "stdout",
     "output_type": "stream",
     "text": [
      "A média dos valores digitados é 12.10\n"
     ]
    }
   ],
   "source": [
    "## Escreva e execute seu código aqui\n",
    "soma=0\n",
    "for i in range(1,11):\n",
    "    valor= int(input(f'Digite o {i}º valor inteiro positivo: '))\n",
    "    soma+= valor\n",
    "\n",
    "print(f'A média dos valores digitados é {soma/10:.2f}')"
   ]
  },
  {
   "cell_type": "markdown",
   "id": "d62e27ff",
   "metadata": {},
   "source": [
    "### Q4.\n",
    "\n",
    "Você vai criar um sistema que registra os resultados dos jogos do Atlético MG ao longo de um campeonato. Seu sistema vai receber os resultados de todos os jogos do Galo, e deve calcular a pontuação do time sabendo que vitórias valem 3 pontos, empates 1 ponto e derrotas 0 pontos.\n",
    "\n",
    "Entrada: <br>\n",
    "A primeira linha de entrada é um inteiro N com a quantidade jogos do galo. Para cada jogo você deve ler 2 inteiros, o primeiro com a quantidade de gols do galo e o segundo com a quantidade de gols do time oponente. \n",
    "\n",
    "Saída: <br>\n",
    "Apresente a soma de vitórias, empates e derrotas do galo, junto com o cálculo da pontuação total.\n",
    "\n",
    "Ex:\n",
    "```\n",
    "Entrada:\n",
    "4\n",
    "2\n",
    "0\n",
    "1\n",
    "1\n",
    "0\n",
    "3\n",
    "1\n",
    "0\n",
    "\n",
    "Saída:\n",
    "Vitórias: 2\n",
    "Empates: 1\n",
    "Derrotas: 1\n",
    "Pontuação: 7\n",
    "\n",
    "```\n",
    "\n",
    "\n"
   ]
  },
  {
   "cell_type": "code",
   "execution_count": null,
   "id": "d3fdfc2a",
   "metadata": {},
   "outputs": [],
   "source": [
    "## Escreva e execute seu código aqui\n",
    "jogos= int(input('Quantos jogos: '))\n",
    "vitorias=0\n",
    "empates=0\n",
    "derrotas=0\n",
    "\n",
    "for i in range (1,jogos+1):\n",
    "    galo=int(input(f'Quantos gols o galo fez no {i}º jogo? '))\n",
    "    oponente=int(input(f'Quantos gols o adversário fez no {i} jogo? '))\n",
    "    if galo > oponente:\n",
    "        vitorias+= 1\n",
    "    if galo==oponente:\n",
    "        empates+= 1\n",
    "    if galo< oponente:\n",
    "        derrotas+= 1\n",
    "\n",
    "\n",
    "print('Vitórias: ',vitorias)\n",
    "print('Empates: ',empates)\n",
    "print('Derrotas: ',derrotas)\n",
    "print('Pontuação: ',(vitorias*3 + empates*1 + derrotas*0))"
   ]
  },
  {
   "cell_type": "markdown",
   "id": "fc98604d",
   "metadata": {},
   "source": [
    "### Q5.\n",
    "\n",
    "Faça um programa que lê dois inteiros N e M, e imprime na tela um campo de batalha naval. O tabuleiro deve possuir N linhas e M colunas. A primeira linha é composta por um espaço em branco e o cabeçalho das colunas, ou seja, valores de 1 a M. As N linhas seguintes iniciam com o cabeçalho da linha, ou seja, seu número, seguido de M caracteres \"/\" (barra) indicando uma possível posição jogável. \n",
    "\n",
    "```\n",
    "Entrada:\n",
    "5\n",
    "4\n",
    "\n",
    "Saída:\n",
    "  1 2 3 4 \n",
    "1 / / / / \n",
    "2 / / / / \n",
    "3 / / / / \n",
    "4 / / / / \n",
    "5 / / / / \n",
    "```\n",
    "\n",
    "Para esse exercício, precisamos lembrar que o comando print implicitamente adiciona uma quebra de linha ao final da impressão. Podemos interferir no final da impressão adicionando mais uma entrada ao print. No exemplo, finalizamos cada linha com um espaço em branco:\n",
    "```python\n",
    "print(\"Texto qualquer\", end = \" \")\n",
    "```"
   ]
  },
  {
   "cell_type": "code",
   "execution_count": null,
   "id": "a60ef197",
   "metadata": {},
   "outputs": [],
   "source": [
    "## Escreva e execute seu código aqui\n",
    "N = int(input(\"Digite o número de linhas: \"))\n",
    "M = int(input(\"Digite o número de colunas: \"))\n",
    "\n",
    "# cabeçalho das colunas\n",
    "print(\"  \", end=\"\")\n",
    "for coluna in range(1, M + 1):\n",
    "    print(coluna, end=\" \")\n",
    "print()\n",
    "\n",
    "#linhas do tabuleiro\n",
    "for linha in range(1, N + 1):\n",
    "    print(linha, end=\" \")\n",
    "    for _ in range(M):\n",
    "        print(\"/\", end=\" \")\n",
    "    print()"
   ]
  },
  {
   "cell_type": "markdown",
   "id": "4654dc0b",
   "metadata": {},
   "source": [
    "---\n",
    "## Break e Continue"
   ]
  },
  {
   "cell_type": "markdown",
   "id": "24fe9d85",
   "metadata": {},
   "source": [
    "### Q6.\n",
    "\n",
    "Escreva um programa que lê uma quantidade indefinida de valores e informa o maior e o menor valor digitados. A leitura é encerrada quando o usuário digitar o valor 0 (zero).\n",
    "\n",
    "```\n",
    "Entrada:\n",
    "12\n",
    "-1\n",
    "29\n",
    "11\n",
    "-5\n",
    "0\n",
    "\n",
    "Saída:\n",
    "Maior: 29\n",
    "Menor: -5\n",
    "```"
   ]
  },
  {
   "cell_type": "code",
   "execution_count": null,
   "id": "ee1c466a",
   "metadata": {},
   "outputs": [],
   "source": [
    "## Escreva e execute seu código aqui\n",
    "maior=float('-inf')\n",
    "menor=float('inf')\n",
    "\n",
    "while True:\n",
    "    num= int(input('Digite um número: '))\n",
    "    if num>maior:\n",
    "        maior=num\n",
    "    elif num<menor:\n",
    "        menor=num\n",
    "    if num==0: break\n",
    "\n",
    "print('O maior valor é: ',maior)\n",
    "print('O menor valor é ',menor)"
   ]
  },
  {
   "cell_type": "markdown",
   "id": "30d486f7",
   "metadata": {},
   "source": [
    "### Q7.\n",
    "\n",
    "Escreva um programa que lê uma quantidade indefinida de valores e informa o **produto** dos valores positivos digitados. A leitura é encerrada quando o usuário digitar o valor 0 (zero).\n",
    "\n",
    "```\n",
    "Entrada:\n",
    "2\n",
    "-1\n",
    "1\n",
    "3\n",
    "-5\n",
    "0\n",
    "\n",
    "Saída:\n",
    "Produto: 6\n",
    "```"
   ]
  },
  {
   "cell_type": "code",
   "execution_count": null,
   "id": "2f1ac324",
   "metadata": {},
   "outputs": [],
   "source": [
    "## Escreva e execute seu código aqui\n",
    "positivos=1\n",
    "\n",
    "while True:\n",
    "    valor= int(input('Digite um valor: '))\n",
    "    if valor>0:\n",
    "        positivos=valor*positivos\n",
    "    elif valor==0: break\n",
    "\n",
    "print('Produto: ',positivos)"
   ]
  },
  {
   "cell_type": "markdown",
   "id": "e932f3cf",
   "metadata": {},
   "source": [
    "### Q8.\n",
    "\n",
    "Vamos fazer uma calculadora que aceita expressões aritméticas de qualquer tamanho até que o usuário digite a palavra \"Fim\". Sua calculadora executa apenas as operações \"+\", \"-\".\n",
    "\n",
    "```\n",
    "Entrada:\n",
    "5\n",
    "+\n",
    "8\n",
    "-\n",
    "3\n",
    "+\n",
    "2\n",
    "Fim\n",
    "\n",
    "Saída:\n",
    "12\n",
    "```"
   ]
  },
  {
   "cell_type": "code",
   "execution_count": null,
   "id": "e835d870",
   "metadata": {},
   "outputs": [],
   "source": [
    "## Escreva e execute seu código aqui\n",
    "import re\n",
    "resultado = 0\n",
    "operador = '+'\n",
    "\n",
    "while True:\n",
    "    expressao = input(\"Digite uma expressão aritmética (ou 'Fim' para sair): \")\n",
    "    \n",
    "    if expressao.lower() == 'fim':\n",
    "        break\n",
    "    \n",
    "    # Encontra os números na expressão usando expressões regulares\n",
    "    numeros = re.findall(r'[+-]?\\d+', expressao)\n",
    "    \n",
    "    # Itera sobre os números e operadores\n",
    "    for item in numeros:\n",
    "        # Verifica se o item é um operador\n",
    "        if item in ['+', '-']:\n",
    "            operador = item\n",
    "        else:\n",
    "            # Realiza a operação correspondente com base no operador atual\n",
    "            if operador == '+':\n",
    "                resultado += int(item)\n",
    "            elif operador == '-':\n",
    "                resultado -= int(item)\n",
    "\n",
    "# Imprime o resultado final\n",
    "print(\"Resultado:\", resultado)\n"
   ]
  }
 ],
 "metadata": {
  "kernelspec": {
   "display_name": "Python 3 (ipykernel)",
   "language": "python",
   "name": "python3"
  },
  "language_info": {
   "codemirror_mode": {
    "name": "ipython",
    "version": 3
   },
   "file_extension": ".py",
   "mimetype": "text/x-python",
   "name": "python",
   "nbconvert_exporter": "python",
   "pygments_lexer": "ipython3",
   "version": "3.12.3"
  }
 },
 "nbformat": 4,
 "nbformat_minor": 5
}
