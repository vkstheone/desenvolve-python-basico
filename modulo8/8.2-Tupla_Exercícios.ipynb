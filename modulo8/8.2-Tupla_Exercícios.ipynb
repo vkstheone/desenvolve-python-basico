{
 "cells": [
  {
   "cell_type": "markdown",
   "id": "0d5035b5",
   "metadata": {},
   "source": [
    "# Tupla\n",
    "\n",
    "## Aula 8.2"
   ]
  },
  {
   "cell_type": "markdown",
   "id": "0bdece85",
   "metadata": {},
   "source": [
    "### Q1. \n",
    "\n",
    "Escreva uma função ```calcula_area_perimetro``` que recebe **apenas um parâmetro** ```dimensoes``` e calcula a área e o perímetro a partir das dimensões dadas. \n",
    "- ```dimensoes``` é uma tupla (largura, comprimento) com as dimensões de um terreno retangular\n",
    "- Sua função deve calcular e retornar as seguintes operações\n",
    "   - $area = largura \\times comprimento$\n",
    "   - $perimetro = 2\\times(largura + comprimento)$\n"
   ]
  },
  {
   "cell_type": "code",
   "execution_count": 1,
   "id": "0a258eba",
   "metadata": {},
   "outputs": [],
   "source": [
    "# Implemente aqui a função calcula_area_perimetro\n",
    "def calcula_area_perimetro(dimensoes):\n",
    "    largura, comprimento = dimensoes\n",
    "    area = largura * comprimento\n",
    "    perimetro = 2 * (largura + comprimento)\n",
    "    return area, perimetro"
   ]
  },
  {
   "cell_type": "code",
   "execution_count": 2,
   "id": "e1866c04",
   "metadata": {},
   "outputs": [
    {
     "name": "stdout",
     "output_type": "stream",
     "text": [
      "(35, 24) <class 'tuple'>\n"
     ]
    }
   ],
   "source": [
    "# Complete o exemplo de uso abaixo\n",
    "largura = 5\n",
    "comprimento = 7\n",
    "\n",
    "retorno = calcula_area_perimetro((largura, comprimento))\n",
    "print(retorno, type(retorno))"
   ]
  },
  {
   "cell_type": "markdown",
   "id": "cbdcb986",
   "metadata": {},
   "source": [
    "### Q2.\n",
    "\n",
    "Dada uma string, imprima todas as vogais que aparecem na string, bem como todos os índices onde elas ocorrem. Para isso, use a função ```enumerate```.\n"
   ]
  },
  {
   "cell_type": "code",
   "execution_count": 3,
   "id": "1f6b1f2d",
   "metadata": {},
   "outputs": [
    {
     "name": "stdout",
     "output_type": "stream",
     "text": [
      "Vogal: O - Índice: 0\n",
      "Vogal: a - Índice: 3\n",
      "Vogal: o - Índice: 5\n",
      "Vogal: o - Índice: 8\n",
      "Vogal: e - Índice: 9\n",
      "Vogal: u - Índice: 10\n",
      "Vogal: a - Índice: 12\n",
      "Vogal: o - Índice: 15\n",
      "Vogal: u - Índice: 16\n",
      "Vogal: a - Índice: 18\n",
      "Vogal: a - Índice: 21\n",
      "Vogal: A - Índice: 23\n",
      "Vogal: i - Índice: 25\n",
      "Vogal: e - Índice: 27\n"
     ]
    }
   ],
   "source": [
    "frase = \"O rato roeu a roupa da Alice\"\n",
    "vogais = \"aeiouAEIOU\"\n",
    "\n",
    "for indice, caractere in enumerate(frase):\n",
    "    if caractere in vogais:\n",
    "        print(f\"Vogal: {caractere} - Índice: {indice}\")"
   ]
  },
  {
   "cell_type": "markdown",
   "id": "8d46663f",
   "metadata": {},
   "source": [
    "### Q3.\n",
    "\n",
    "Escreva uma função em Python chamada ```ordenar_tuplas``` que recebe uma lista de tuplas, cada uma contendo o nome de um aluno e sua respectiva média, e retorna uma nova lista ordenada em ordem decrescente de médias."
   ]
  },
  {
   "cell_type": "code",
   "execution_count": 4,
   "id": "469f2e6e",
   "metadata": {},
   "outputs": [],
   "source": [
    "# Implemente aqui a função ordenar_tuplas\n",
    "def ordenar_tuplas(alunos_notas):\n",
    "    return sorted(alunos_notas, key=lambda aluno: aluno[1], reverse=True)"
   ]
  },
  {
   "cell_type": "code",
   "execution_count": 5,
   "id": "1972c62b",
   "metadata": {},
   "outputs": [
    {
     "name": "stdout",
     "output_type": "stream",
     "text": [
      "[('Charlie', 9.0), ('David', 8.8), ('Alice', 8.5), ('Bob', 7.2)]\n"
     ]
    }
   ],
   "source": [
    "# Exemplo de uso:\n",
    "alunos_notas = [('Alice', 8.5), ('Bob', 7.2), ('Charlie', 9.0), ('David', 8.8)]\n",
    "resultado = ordenar_tuplas(alunos_notas)\n",
    "print(resultado)\n",
    "# Saída esperada: [('Charlie', 9.0), ('David', 8.8), ('Alice', 8.5), ('Bob', 7.2)]"
   ]
  },
  {
   "cell_type": "markdown",
   "id": "e0268fae",
   "metadata": {},
   "source": [
    "### Q4.\n",
    "\n",
    "Escreva uma função em Python chamada ```comprimir_tuplas``` que recebe uma lista de tuplas, cada uma contendo uma palavra e um número, e retorna uma nova lista de tuplas onde palavras idênticas são agrupadas e seus números são somados.\n",
    "\n"
   ]
  },
  {
   "cell_type": "code",
   "execution_count": 6,
   "id": "30a221f3",
   "metadata": {},
   "outputs": [],
   "source": [
    "# Implemente aqui a função comprimir_tuplas\n",
    "def comprimir_tuplas(tuplas_originais):\n",
    "    resultado = []\n",
    "    \n",
    "    for palavra, numero in tuplas_originais:\n",
    "        encontrou = False\n",
    "        for i, (palavra_resultado, numero_resultado) in enumerate(resultado):\n",
    "            if palavra == palavra_resultado:\n",
    "                resultado[i] = (palavra_resultado, numero_resultado + numero)\n",
    "                encontrou = True\n",
    "                break\n",
    "        if not encontrou:\n",
    "            resultado.append((palavra, numero))\n",
    "    \n",
    "    return resultado"
   ]
  },
  {
   "cell_type": "code",
   "execution_count": 7,
   "id": "80972bac",
   "metadata": {},
   "outputs": [
    {
     "name": "stdout",
     "output_type": "stream",
     "text": [
      "[('maçã', 8), ('banana', 5), ('laranja', 1)]\n"
     ]
    }
   ],
   "source": [
    "# Exemplo de uso:\n",
    "tuplas_originais = [('maçã', 3), ('banana', 2), ('maçã', 5), ('laranja', 1), ('banana', 3)]\n",
    "resultado = comprimir_tuplas(tuplas_originais)\n",
    "print(resultado)\n",
    "# Saída esperada: [('maçã', 8), ('banana', 5), ('laranja', 1)]"
   ]
  },
  {
   "cell_type": "markdown",
   "id": "649a5082",
   "metadata": {},
   "source": [
    "### Q5. \n",
    "\n",
    "- Escreva um script que peça o nome e a idade de todos na fila de uma balada. Crie uma lista de tuplas com os pares ```(nome, idade)``` de cada um. \n",
    "- Em seguida crie e imprima duas tuplas apenas com os nomes, uma com os menores de idade que não poderão entrar, e uma com os maiores de idade (```idade >= 18```). \n",
    "\n"
   ]
  },
  {
   "cell_type": "code",
   "execution_count": 8,
   "id": "47cb0573",
   "metadata": {},
   "outputs": [
    {
     "name": "stdin",
     "output_type": "stream",
     "text": [
      "Digite o nome da pessoa (ou 'sair' para finalizar):  João\n",
      "Digite a idade da pessoa:  16\n",
      "Digite o nome da pessoa (ou 'sair' para finalizar):  Maria\n",
      "Digite a idade da pessoa:  18\n",
      "Digite o nome da pessoa (ou 'sair' para finalizar):  Ana\n",
      "Digite a idade da pessoa:  20\n",
      "Digite o nome da pessoa (ou 'sair' para finalizar):  sair\n"
     ]
    },
    {
     "name": "stdout",
     "output_type": "stream",
     "text": [
      "Menores de idade: ('João',)\n",
      "Maiores de idade: ('Maria', 'Ana')\n"
     ]
    }
   ],
   "source": [
    "## Implemente aqui sua solução\n",
    "def obter_informacoes():\n",
    "    lista_pessoas = []\n",
    "    \n",
    "    while True:\n",
    "        nome = input(\"Digite o nome da pessoa (ou 'sair' para finalizar): \")\n",
    "        if nome.lower() == 'sair':\n",
    "            break\n",
    "        idade = int(input(\"Digite a idade da pessoa: \"))\n",
    "        lista_pessoas.append((nome, idade))\n",
    "    \n",
    "    return lista_pessoas\n",
    "\n",
    "def separar_idades(lista_pessoas):\n",
    "    menores = []\n",
    "    maiores = []\n",
    "    \n",
    "    for nome, idade in lista_pessoas:\n",
    "        if idade < 18:\n",
    "            menores.append(nome)\n",
    "        else:\n",
    "            maiores.append(nome)\n",
    "    \n",
    "    return tuple(menores), tuple(maiores)\n",
    "\n",
    "fila = obter_informacoes()\n",
    "\n",
    "# Separando menores e maiores de idade\n",
    "menores, maiores = separar_idades(fila)\n",
    "\n",
    "print(f\"Menores de idade: {menores}\")\n",
    "print(f\"Maiores de idade: {maiores}\")\n"
   ]
  },
  {
   "cell_type": "code",
   "execution_count": null,
   "id": "2c107e32-01f1-498e-9125-366e551423bf",
   "metadata": {},
   "outputs": [],
   "source": []
  }
 ],
 "metadata": {
  "kernelspec": {
   "display_name": "Python 3 (ipykernel)",
   "language": "python",
   "name": "python3"
  },
  "language_info": {
   "codemirror_mode": {
    "name": "ipython",
    "version": 3
   },
   "file_extension": ".py",
   "mimetype": "text/x-python",
   "name": "python",
   "nbconvert_exporter": "python",
   "pygments_lexer": "ipython3",
   "version": "3.12.3"
  }
 },
 "nbformat": 4,
 "nbformat_minor": 5
}
